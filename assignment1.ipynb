{
 "cells": [
  {
   "cell_type": "markdown",
   "metadata": {},
   "source": [
    "## COMP5328 - Advanced Machine Learning\n",
    "## Assignment 1: Non-negative Matrix Factorization\n",
    "----------------------------------------------------------------------------------------"
   ]
  },
  {
   "cell_type": "markdown",
   "metadata": {},
   "source": [
    "**(Semester 2, 2025)**\n",
    "\n",
    "In this ipython notebook, we provide some example code for assignment1.\n",
    "+ Load Data.\n",
    "    - ORL dataset. \n",
    "    - Extended YaleB dataset. \n",
    "    - AR dataset (**optional**).\n",
    "+ Perform Evaluation. \n",
    "   - Relative Reconstruction Errors.\n",
    "   - Accuracy, NMI (**optional**).\n",
    "\n",
    "Lecturer: Tongliang Liu.\n",
    "\n",
    "**Note: All datasets can be used only for this assignment and you are not allowed to distribute these datasets. If you want to use AR dataset, you need to apply it by yourself (we do not provide AR dataset due to the problem of license, please find more details in http://www2.ece.ohio-state.edu/~aleix/ARdatabase.html).**"
   ]
  },
  {
   "cell_type": "markdown",
   "metadata": {},
   "source": [
    "## 1. Load Dataset\n",
    "\n",
    "### 1.0 Data Folder"
   ]
  },
  {
   "cell_type": "code",
   "execution_count": 1,
   "metadata": {
    "scrolled": true
   },
   "outputs": [
    {
     "name": "stdout",
     "output_type": "stream",
     "text": [
      "total 0\r\n",
      "drwxrwxrwx@ 41 ybs  staff  1312 Aug 25 16:59 \u001b[30m\u001b[43mCroppedYaleB\u001b[m\u001b[m\r\n",
      "drwx------@ 44 ybs  staff  1408 Aug 24 15:37 \u001b[34mORL\u001b[m\u001b[m\r\n"
     ]
    }
   ],
   "source": [
    "# The structure of data folder.\n",
    "!ls -l data"
   ]
  },
  {
   "cell_type": "raw",
   "metadata": {},
   "source": [
    "# Tree structure of data folder.\n",
    "├── CroppedAR\n",
    "    ├── M-001-01.bmp\n",
    "    ├── M-001-01.txt\n",
    "    ├── M-001-02.bmp\n",
    "    ├── M-001-02.txt\n",
    "    ├── ...\n",
    "├── CroppedYaleB\n",
    "│   ├── yaleB01\n",
    "│   ├── yaleB02\n",
    "│   ...\n",
    "│   ├── yaleB38\n",
    "│   └── yaleB39\n",
    "└── ORL\n",
    "    ├── s1\n",
    "    ├── s2\n",
    "    ├── s3\n",
    "    ├── ...\n",
    "    ├── s40"
   ]
  },
  {
   "cell_type": "markdown",
   "metadata": {},
   "source": [
    "### 1.1 Load ORL Dataset and Extended YaleB Dataset.\n",
    "+ ORL dataset contains ten different images of each of 40 distinct subjects. For some subjects, the images were taken at different times, varying the lighting, facial expressions (open / closed eyes, smiling / not smiling) and facial details (glasses / no glasses). All the images were taken against a dark homogeneous background with the subjects in an upright, frontal position (with tolerance for some side movement). The size of each image is 92x112 pixels, with 256 grey levels per pixel. To further reduce the computation complexity, you can resize all images to 30x37 pixels.\n",
    "\n",
    "+ Extended YaleB dataset contains 2414 images of 38 human subjects under 9 poses and 64 illumination conditions. All images are manually aligned, cropped, and then resized to 168x192 pixels. To further reduce the computation complexity, you can resize all images to 42x48 pixels."
   ]
  },
  {
   "cell_type": "code",
   "execution_count": 1,
   "metadata": {},
   "outputs": [],
   "source": [
    "import os\n",
    "import numpy as np\n",
    "from PIL import Image\n",
    "\n",
    "def load_data(root='data/CroppedYaleB', reduce=4):\n",
    "    \"\"\" \n",
    "    Load ORL (or Extended YaleB) dataset to numpy array.\n",
    "    \n",
    "    Args:\n",
    "        root: path to dataset.\n",
    "        reduce: scale factor for zooming out images.\n",
    "        \n",
    "    \"\"\" \n",
    "    images, labels = [], []\n",
    "\n",
    "    for i, person in enumerate(sorted(os.listdir(root))):\n",
    "        \n",
    "        if not os.path.isdir(os.path.join(root, person)):\n",
    "            continue\n",
    "        \n",
    "        for fname in os.listdir(os.path.join(root, person)):    \n",
    "            \n",
    "            # Remove background images in Extended YaleB dataset.\n",
    "            if fname.endswith('Ambient.pgm'):\n",
    "                continue\n",
    "            \n",
    "            if not fname.endswith('.pgm'):\n",
    "                continue\n",
    "                \n",
    "            # load image.\n",
    "            img = Image.open(os.path.join(root, person, fname))\n",
    "            img = img.convert('L') # grey image.\n",
    "\n",
    "            # reduce computation complexity.\n",
    "            img = img.resize([s//reduce for s in img.size])\n",
    "\n",
    "            # TODO: preprocessing.\n",
    "\n",
    "            # convert image to numpy array.\n",
    "            img = np.asarray(img).reshape((-1,1))\n",
    "\n",
    "            # collect data and label.\n",
    "            images.append(img)\n",
    "            labels.append(i)\n",
    "\n",
    "    # concate all images and labels.\n",
    "    images = np.concatenate(images, axis=1)\n",
    "    labels = np.array(labels)\n",
    "\n",
    "    return images, labels"
   ]
  },
  {
   "cell_type": "code",
   "execution_count": 3,
   "metadata": {
    "scrolled": true
   },
   "outputs": [
    {
     "name": "stdout",
     "output_type": "stream",
     "text": [
      "ORL dataset: X.shape = (2576, 400), Y.shape = (400,)\n",
      "Extended YalB dataset: X.shape = (2016, 2414), Y.shape = (2414,)\n"
     ]
    }
   ],
   "source": [
    "# Load ORL dataset.\n",
    "X, Y = load_data(root='data/ORL', reduce=2)\n",
    "print('ORL dataset: X.shape = {}, Y.shape = {}'.format(X.shape, Y.shape))\n",
    "\n",
    "# Load Extended YaleB dataset.\n",
    "X, Y = load_data(root='data/CroppedYaleB', reduce=4)\n",
    "print('Extended YalB dataset: X.shape = {}, Y.shape = {}'.format(X.shape, Y.shape))"
   ]
  },
  {
   "cell_type": "code",
   "execution_count": 2,
   "metadata": {},
   "outputs": [
    {
     "name": "stdout",
     "output_type": "stream",
     "text": [
      "ORL dataset: X.shape = (2576, 400), Y.shape = (400,)\n"
     ]
    }
   ],
   "source": [
    "# Load ORL dataset.\n",
    "X, Y = load_data(root='data/ORL', reduce=2)\n",
    "print('ORL dataset: X.shape = {}, Y.shape = {}'.format(X.shape, Y.shape))"
   ]
  },
  {
   "cell_type": "markdown",
   "metadata": {},
   "source": [
    "### 1.2 Load AR Dataset (Optional) \n",
    "AR dataset contains 2600 images of 100 individuals (50 male and 50 female). All images have been cropped and resized to 120x165 pixels. To further reduce the computation complexity, you can resize all images to 40x55 pixels."
   ]
  },
  {
   "cell_type": "code",
   "execution_count": 4,
   "metadata": {},
   "outputs": [],
   "source": [
    "def load_data_AR(root='data/CroppedAR', reduce=3):\n",
    "    \"\"\" \n",
    "    Load AR dataset to numpy array.\n",
    "    \n",
    "    Args:\n",
    "        root: path to AR dataset.\n",
    "        reduce: scale factor for zooming out images.\n",
    "        \n",
    "    \"\"\" \n",
    "    images, labels = [], []\n",
    "    \n",
    "    for fname in os.listdir(root):\n",
    "        \n",
    "        if not fname.endswith('.bmp'):\n",
    "            continue\n",
    "        \n",
    "        # get label.\n",
    "        label = int(fname[2:5])\n",
    "        if fname[0] == 'W': # start from 50\n",
    "            label += 50\n",
    "        \n",
    "        # load image.\n",
    "        img = Image.open(os.path.join(root, fname))\n",
    "        img = img.convert('L') # grey\n",
    "        \n",
    "        # reduce computation complexity.\n",
    "        img = img.resize([s//reduce for s in img.size])\n",
    "   \n",
    "        # TODO: preprocessing.\n",
    "        \n",
    "        # convert image to numpy array.\n",
    "        img = np.asarray(img).reshape((-1,1))\n",
    "        \n",
    "        # collect data and label.\n",
    "        images.append(img)\n",
    "        labels.append(label)\n",
    "        \n",
    "    # concate all images and labels.\n",
    "    images = np.concatenate(images, axis=1)\n",
    "    labels = np.array(labels)\n",
    "    \n",
    "    return images, labels"
   ]
  },
  {
   "cell_type": "code",
   "execution_count": 5,
   "metadata": {
    "scrolled": true
   },
   "outputs": [],
   "source": [
    "# X, Y = load_data_AR(root='data/CroppedAR', reduce=3)\n",
    "# print('AR dataset: X.shape = {}, Y.shape = {}'.format(X.shape, Y.shape))"
   ]
  },
  {
   "cell_type": "markdown",
   "metadata": {},
   "source": [
    "---------------------------\n"
   ]
  },
  {
   "cell_type": "markdown",
   "metadata": {},
   "source": [
    "## 2. Evaluation Metrics\n",
    "\n",
    "\n",
    "### 2.1 Relative Reconstruction Errors (RRE)\n",
    "\n",
    "To compare the robustness of different NMF algorithms, you can use the ```relative reconstruction errors```. Let $V$ denote the contaminated dataset (by adding noise), and $\\hat{V}$\n",
    " denote the clean dataset. Let $W$ and $H$ denote the factorization results on $V$, the ``relative reconstruction errors`` then can be defined as follows:\n",
    " \\begin{equation}\n",
    "    RRE = \\frac{ \\| \\hat{V} - WH \\|_F }{ \\| \\hat{V} \\|_F}.\n",
    "\\end{equation}\n"
   ]
  },
  {
   "cell_type": "code",
   "execution_count": 5,
   "metadata": {},
   "outputs": [
    {
     "name": "stdout",
     "output_type": "stream",
     "text": [
      "==> Load ORL dataset ...\n",
      "V_hat.shape=(1110, 400), Y_hat.shape=(400,)\n"
     ]
    },
    {
     "data": {
      "image/png": "[encoded data removed]",
      "text/plain": [
       "<Figure size 1000x300 with 3 Axes>"
      ]
     },
     "metadata": {},
     "output_type": "display_data"
    },
    {
     "name": "stdout",
     "output_type": "stream",
     "text": [
      "==> Apply NMF ...\n",
      "W.shape=(1110, 40), H.shape=(40, 400)\n",
      "==> Evaluate RRE ...\n",
      "RRE = 0.3011081317886962\n"
     ]
    }
   ],
   "source": [
    "# Load dataset.\n",
    "print('==> Load ORL dataset ...')\n",
    "V_hat, Y_hat = load_data('data/ORL', reduce=3)\n",
    "print('V_hat.shape={}, Y_hat.shape={}'.format(V_hat.shape, Y_hat.shape))\n",
    "\n",
    "# Add Noise.\n",
    "V_noise = np.random.rand(*V_hat.shape) * 40\n",
    "V = V_hat + V_noise\n",
    "\n",
    "# Plot result.\n",
    "import matplotlib.pyplot as plt\n",
    "img_size = [i//3 for i in (92, 112)] # ORL\n",
    "ind = 1 # index of demo image.\n",
    "plt.figure(figsize=(10,3))\n",
    "plt.subplot(131)\n",
    "plt.imshow(V_hat[:,ind].reshape(img_size[1],img_size[0]), cmap=plt.cm.gray)\n",
    "plt.title('Image(Original)')\n",
    "plt.subplot(132)\n",
    "plt.imshow(V_noise[:,ind].reshape(img_size[1],img_size[0]), cmap=plt.cm.gray)\n",
    "plt.title('Noise')\n",
    "plt.subplot(133)\n",
    "plt.imshow(V[:,ind].reshape(img_size[1],img_size[0]), cmap=plt.cm.gray)\n",
    "plt.title('Image(Noise)')\n",
    "plt.show()\n",
    "\n",
    "# TODO: you should implement NMF algorithms by yourself.\n",
    "print('==> Apply NMF ...')\n",
    "from sklearn.decomposition import NMF\n",
    "model = NMF(n_components=len(set(Y_hat))) # set n_components to num_classes.\n",
    "W = model.fit_transform(V)\n",
    "H = model.components_\n",
    "print('W.shape={}, H.shape={}'.format(W.shape, H.shape))\n",
    "\n",
    "# Evaluate relative reconstruction errors.\n",
    "print('==> Evaluate RRE ...')\n",
    "RRE = np.linalg.norm(V_hat - W.dot(H)) / np.linalg.norm(V_hat)\n",
    "print('RRE = {}'.format(RRE))"
   ]
  },
  {
   "cell_type": "code",
   "execution_count": 21,
   "metadata": {},
   "outputs": [
    {
     "name": "stdout",
     "output_type": "stream",
     "text": [
      "V shape: (1110, 400)\n",
      "W shape: (1110, 10)\n",
      "H shape: (10, 400)\n"
     ]
    }
   ],
   "source": [
    "# Multiplicative Update Rules\n",
    "# Step 1. Initialize dictionary and coefficient matrices\n",
    "def initialise_matrices(V, k, random_state=None):\n",
    "    \"\"\"\n",
    "    Initialize the W (basis dictionary) and H (coefficient) matrices with random non-negative values\n",
    "    \n",
    "    Args:\n",
    "        V: Input data matrix (m × n)\n",
    "        k: Number of components \n",
    "        random_state: Random seed for reproducibility\n",
    "    \n",
    "    Returns:\n",
    "        W: Initial basis matrix (m × k)\n",
    "        H: Initial coefficient matrix (k × n)\n",
    "    \"\"\"\n",
    "    m, n = V.shape\n",
    "    \n",
    "    # Initialize W and H with random positive values\n",
    "    rng = np.random.RandomState(random_state)\n",
    "    W = rng.rand(m, k)\n",
    "    H = rng.rand(k, n)\n",
    "    \n",
    "    return W, H\n",
    "\n",
    "W_init, H_init = initialise_matrices(V, k=10, random_state=42)\n",
    "print(f\"V shape: {V.shape}\")\n",
    "print(f\"W shape: {W_init.shape}\")\n",
    "print(f\"H shape: {H_init.shape}\")"
   ]
  },
  {
   "cell_type": "code",
   "execution_count": 28,
   "metadata": {},
   "outputs": [],
   "source": [
    "# Step 2. Set update rules for W and H\n",
    "def H_update(V, W, H):\n",
    "    \"\"\"\n",
    "    Multiplicative Update Rules to solve for H by setting fixed W\n",
    "    \n",
    "    H_new ← H_old*(W^T*V/W^T*W*H_old) \n",
    "    \n",
    "    Args:\n",
    "        V: Input data matrix (m × n)\n",
    "        W: Current basis matrix (m × k)\n",
    "        H: Current coefficient matrix (k × n)\n",
    "    \n",
    "    Returns:\n",
    "        H_new: Updated coefficient matrix\n",
    "    \"\"\"\n",
    "    # Compute numerator: W^T*V\n",
    "    numerator = np.dot(np.transpose(W), V)\n",
    "    \n",
    "    # Compute denominator: W^T*W*H_old\n",
    "    denominator = np.dot(np.dot(np.transpose(W), W), H)\n",
    "    \n",
    "    # Multiplicative update\n",
    "    H_new = H * (numerator / denominator)\n",
    "    \n",
    "    return H_new\n",
    "    \n",
    "def W_update(V, W, H):\n",
    "    \"\"\"\n",
    "    Multiplicative Update Rules to solve for W by setting fixed H\n",
    "    \n",
    "    W_new ← W_old*(V*H^T/W_old*H*H^T) \n",
    "    \n",
    "    Args:\n",
    "        V: Input data matrix (m × n)\n",
    "        W: Current basis matrix (m × k)\n",
    "        H: Current coefficient matrix (k × n)\n",
    "    \n",
    "    Returns:\n",
    "        W_new: Updated dictionary matrix\n",
    "    \"\"\"\n",
    "    # Compute numerator: V*H^T\n",
    "    numerator = np.dot(V, np.transpose(H))\n",
    "    \n",
    "    # Compute denominator: W_old*H*H^T\n",
    "    denominator = np.dot(np.dot(W, H), np.transpose(H))\n",
    "    \n",
    "    # Multiplicative update\n",
    "    W_new = W * (numerator / denominator)\n",
    "    \n",
    "    return W_new"
   ]
  },
  {
   "cell_type": "code",
   "execution_count": 25,
   "metadata": {},
   "outputs": [],
   "source": [
    "# Step 3. Calculate the loss\n",
    "def compute_reconstruction_error(V, W, H):\n",
    "    \"\"\"\n",
    "    Compute the Frobenius norm reconstruction error\n",
    "    \n",
    "    Args:\n",
    "        V: Original data matrix\n",
    "        W: Basis matrix\n",
    "        H: Coefficient matrix\n",
    "    \n",
    "    Returns:\n",
    "        error: Frobenius norm of (V - WH)\n",
    "    \"\"\"\n",
    "    reconstruction = np.dot(W, H)\n",
    "    error = np.linalg.norm(V - reconstruction, 'fro')\n",
    "    return error"
   ]
  },
  {
   "cell_type": "code",
   "execution_count": 26,
   "metadata": {},
   "outputs": [],
   "source": [
    "# Step 4. Optimisation iteration\n",
    "def optimisation(V, k, max_iter=1000, tol=1e-6, verbose=True, random_state=None):\n",
    "    \"\"\"\n",
    "    Complete optimisation process\n",
    "    \n",
    "    Args:\n",
    "        V: Input data matrix (m × n)\n",
    "        k: Number of components\n",
    "        max_iter: Maximum number of iterations\n",
    "        tol: Convergence tolerance\n",
    "        random_state: Random seed for initialization\n",
    "    \n",
    "    Returns:\n",
    "        W: Basis matrix (m × k)\n",
    "        H: Coefficient matrix (k × n)\n",
    "        errors: List of reconstruction errors at each iteration\n",
    "    \"\"\"\n",
    "     # Initialise matrices\n",
    "    W, H = initialise_matrices(V, k, random_state)\n",
    "    \n",
    "    # Store errors for monitoring convergence\n",
    "    errors = []\n",
    "    \n",
    "    # Main optimization loop\n",
    "    for iteration in range(max_iter):\n",
    "        # Store previous error\n",
    "        prev_error = compute_reconstruction_error(V, W, H)\n",
    "        errors.append(prev_error)\n",
    "        \n",
    "        # Update H\n",
    "        H = H_update(V, W, H)\n",
    "\n",
    "        # Update W\n",
    "        W = W_update(V, W, H)\n",
    "        \n",
    "        # Compute new error\n",
    "        current_error = compute_reconstruction_error(V, W, H)\n",
    "        \n",
    "        # Check convergence\n",
    "        if abs(prev_error - current_error) < tol:\n",
    "            if verbose:\n",
    "                print(f\"Converged at iteration {iteration+1}\")\n",
    "            break\n",
    "        \n",
    "        # Print progress every 100 iterations\n",
    "        if verbose and (iteration + 1) % 100 == 0:\n",
    "            print(f\"Iteration {iteration+1}: Error = {current_error:.6f}\")\n",
    "    \n",
    "    # Add final error\n",
    "    errors.append(compute_reconstruction_error(V, W, H))\n",
    "    \n",
    "    return W, H, errors\n",
    "    "
   ]
  },
  {
   "cell_type": "code",
   "execution_count": 37,
   "metadata": {},
   "outputs": [
    {
     "name": "stdout",
     "output_type": "stream",
     "text": [
      "==> Apply NMF ...\n",
      "Iteration 100: Error = 15327.111283\n",
      "Iteration 200: Error = 13548.907350\n",
      "Iteration 300: Error = 13011.033794\n",
      "Iteration 400: Error = 12780.820365\n",
      "Iteration 500: Error = 12661.606615\n",
      "Iteration 600: Error = 12590.698192\n",
      "Iteration 700: Error = 12543.551719\n",
      "Iteration 800: Error = 12509.609384\n",
      "Iteration 900: Error = 12483.631985\n",
      "Iteration 1000: Error = 12462.932815\n",
      "W.shape=(1110, 40), H.shape=(40, 400), final error=12462.93281502906\n",
      "==> Evaluate RRE ...\n",
      "RRE = 0.20876505990456806\n"
     ]
    }
   ],
   "source": [
    "# Step 5. Applying NMF\n",
    "print('==> Apply NMF ...')\n",
    "W_final, H_final, error_final = optimisation(V, k=40, max_iter=1000, tol=1e-6, verbose=True, random_state=42)\n",
    "print('W.shape={}, H.shape={}, final error={}'.format(W_final.shape, H_final.shape, error_final[len(error_final)-1]))\n",
    "\n",
    "# Evaluate relative reconstruction errors.\n",
    "print('==> Evaluate RRE ...')\n",
    "RRE_final = np.linalg.norm(V_hat - np.dot(W_final, H_final)) / np.linalg.norm(V_hat)\n",
    "print('RRE = {}'.format(RRE_final))"
   ]
  },
  {
   "cell_type": "code",
   "execution_count": 38,
   "metadata": {},
   "outputs": [
    {
     "name": "stdout",
     "output_type": "stream",
     "text": [
      "==> Apply NMF with sklearn ...\n",
      "W.shape=(1110, 40), H.shape=(40, 400)\n",
      "==> Evaluate RRE ...\n",
      "RRE = 0.30201221494080804\n",
      "\n",
      "Comparison:\n",
      "Our RRE:     0.208765\n",
      "Sklearn RRE: 0.302012\n",
      "Difference:  0.093247\n"
     ]
    }
   ],
   "source": [
    "# Step 6. Comparing the results with NMF by sklearn\n",
    "print('==> Apply NMF with sklearn ...')\n",
    "from sklearn.decomposition import NMF\n",
    "model = NMF(n_components=len(set(Y_hat))) # set n_components to num_classes.\n",
    "W_sklearn = model.fit_transform(V)\n",
    "H_sklearn = model.components_\n",
    "print('W.shape={}, H.shape={}'.format(W_sklearn.shape, H_sklearn.shape))\n",
    "\n",
    "# Evaluate relative reconstruction errors.\n",
    "print('==> Evaluate RRE ...')\n",
    "RRE_sklearn = np.linalg.norm(V_hat - W_sklearn.dot(H_sklearn)) / np.linalg.norm(V_hat)\n",
    "print('RRE = {}'.format(RRE_sklearn))\n",
    "\n",
    "print(f\"\\nComparison:\")\n",
    "print(f\"Our RRE:     {RRE_final:.6f}\")\n",
    "print(f\"Sklearn RRE: {RRE_sklearn:.6f}\")\n",
    "print(f\"Difference:  {abs(RRE_final - RRE_sklearn):.6f}\")"
   ]
  },
  {
   "cell_type": "markdown",
   "metadata": {},
   "source": [
    "### 2.2 Evaluate Clustering Performance\n",
    "\n",
    "1. Accuracy.\n",
    "    \n",
    "    $$ Acc(Y, Y_{pred}) = \\frac{1}{n}\\sum\\limits_{i=1}^n 1\\{Y_{pred}(i) == Y(i)\\}$$\n",
    "        \n",
    "2. Normalized Mutual Information (NMI).\n",
    "\n",
    "    $$ NMI(Y, Y_{pred}) = \\frac{2 * I(Y, Y_{pred})}{H(Y) + H(Y_{pred})} $$\n",
    "    \n",
    "   where $ I(\\cdot,\\cdot) $ is mutual information and $ H(\\cdot) $ is entropy."
   ]
  },
  {
   "cell_type": "code",
   "execution_count": 7,
   "metadata": {},
   "outputs": [
    {
     "name": "stdout",
     "output_type": "stream",
     "text": [
      "==> Evaluate Acc and NMI ...\n",
      "Acc(NMI) = 0.5875 (0.7431)\n"
     ]
    }
   ],
   "source": [
    "from collections import Counter\n",
    "from sklearn.cluster import KMeans\n",
    "from sklearn.metrics import accuracy_score\n",
    "from sklearn.metrics import normalized_mutual_info_score\n",
    "\n",
    "def assign_cluster_label(X, Y):\n",
    "    kmeans = KMeans(n_clusters=len(set(Y))).fit(X)\n",
    "    Y_pred = np.zeros(Y.shape)\n",
    "    for i in set(kmeans.labels_):\n",
    "        ind = kmeans.labels_ == i\n",
    "        Y_pred[ind] = Counter(Y[ind]).most_common(1)[0][0] # assign label.\n",
    "    return Y_pred\n",
    "\n",
    "print('==> Evaluate Acc and NMI ...')\n",
    "\n",
    "# Assign cluster labels.\n",
    "Y_pred = assign_cluster_label(H.T, Y_hat)\n",
    "\n",
    "acc = accuracy_score(Y_hat, Y_pred)\n",
    "nmi = normalized_mutual_info_score(Y_hat, Y_pred)\n",
    "print('Acc(NMI) = {:.4f} ({:.4f})'.format(acc, nmi))\n"
   ]
  },
  {
   "cell_type": "code",
   "execution_count": null,
   "metadata": {},
   "outputs": [],
   "source": [
    "# Step 6: Test clustering performance with our NMF\n",
    "def test_clustering_with_our_nmf(V_hat, Y_hat, noise_levels=[10, 20, 40, 60]):\n",
    "    \"\"\"Test clustering performance using our NMF implementation\"\"\"\n",
    "    from sklearn.cluster import KMeans\n",
    "    from sklearn.metrics import accuracy_score, normalized_mutual_info_score\n",
    "    \n",
    "    results = []\n",
    "    \n",
    "    for noise_level in noise_levels:\n",
    "        print(f\"\\nTesting with noise level: {noise_level}\")\n",
    "        \n",
    "        # Add noise with fixed random state for reproducibility\n",
    "        np.random.seed(42)  # Same seed for consistent noise across tests\n",
    "        V_noise = np.random.rand(*V_hat.shape) * noise_level\n",
    "        V = V_hat + V_noise\n",
    "        \n",
    "        # Apply our NMF\n",
    "        W, H, errors = nmf_multiplicative_update(\n",
    "            V, n_components=len(set(Y_hat)), max_iter=200, \n",
    "            random_state=42, verbose=False\n",
    "        )\n",
    "        \n",
    "        # Test clustering on H (coefficient matrix)\n",
    "        def assign_cluster_label(X, Y):\n",
    "            kmeans = KMeans(n_clusters=len(set(Y))).fit(X)\n",
    "            Y_pred = np.zeros(Y.shape)\n",
    "            for i in set(kmeans.labels_):\n",
    "                ind = kmeans.labels_ == i\n",
    "                Y_pred[ind] = Counter(Y[ind]).most_common(1)[0][0]\n",
    "            return Y_pred\n",
    "        \n",
    "        Y_pred = assign_cluster_label(H.T, Y_hat)\n",
    "        acc = accuracy_score(Y_hat, Y_pred)\n",
    "        nmi = normalized_mutual_info_score(Y_hat, Y_pred)\n",
    "        \n",
    "        # Calculate RRE\n",
    "        RRE = np.linalg.norm(V_hat - W @ H) / np.linalg.norm(V_hat)\n",
    "        \n",
    "        results.append({\n",
    "            'noise_level': noise_level,\n",
    "            'accuracy': acc,\n",
    "            'nmi': nmi,\n",
    "            'RRE': RRE\n",
    "        })\n",
    "        \n",
    "        print(f\"  Accuracy: {acc:.4f}\")\n",
    "        print(f\"  NMI: {nmi:.4f}\")\n",
    "        print(f\"  RRE: {RRE:.4f}\")\n",
    "    \n",
    "    return results\n",
    "\n",
    "# Test clustering performance\n",
    "print(\"=== Testing Clustering Performance with Our NMF ===\")\n",
    "clustering_results_our = test_clustering_with_our_nmf(V_hat, Y_hat)\n",
    "\n",
    "# Plot results\n",
    "noise_levels = [r['noise_level'] for r in clustering_results_our]\n",
    "acc_values = [r['accuracy'] for r in clustering_results_our]\n",
    "nmi_values = [r['nmi'] for r in clustering_results_our]\n",
    "rre_values = [r['RRE'] for r in clustering_results_our]\n",
    "\n",
    "fig, axes = plt.subplots(1, 3, figsize=(18, 5))\n",
    "\n",
    "# Accuracy plot\n",
    "axes[0].plot(noise_levels, acc_values, 'ro-', linewidth=2, markersize=8)\n",
    "axes[0].set_xlabel('Noise Level')\n",
    "axes[0].set_ylabel('Accuracy')\n",
    "axes[0].set_title('Clustering Accuracy vs Noise')\n",
    "axes[0].grid(True, alpha=0.3)\n",
    "\n",
    "# NMI plot\n",
    "axes[1].plot(noise_levels, nmi_values, 'go-', linewidth=2, markersize=8)\n",
    "axes[1].set_xlabel('Noise Level')\n",
    "axes[1].set_ylabel('NMI')\n",
    "axes[1].set_title('NMI vs Noise')\n",
    "axes[1].grid(True, alpha=0.3)\n",
    "\n",
    "# RRE plot\n",
    "axes[2].plot(noise_levels, rre_values, 'bo-', linewidth=2, markersize=8)\n",
    "axes[2].set_xlabel('Noise Level')\n",
    "axes[2].set_ylabel('RRE')\n",
    "axes[2].set_title('RRE vs Noise')\n",
    "axes[2].grid(True, alpha=0.3)\n",
    "\n",
    "plt.tight_layout()\n",
    "plt.show()\n"
   ]
  }
 ],
 "metadata": {
  "kernelspec": {
   "display_name": "base",
   "language": "python",
   "name": "python3"
  },
  "language_info": {
   "codemirror_mode": {
    "name": "ipython",
    "version": 3
   },
   "file_extension": ".py",
   "mimetype": "text/x-python",
   "name": "python",
   "nbconvert_exporter": "python",
   "pygments_lexer": "ipython3",
   "version": "3.12.4"
  }
 },
 "nbformat": 4,
 "nbformat_minor": 2
}
