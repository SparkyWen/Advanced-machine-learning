{
 "cells": [
  {
   "cell_type": "markdown",
   "metadata": {},
   "source": [
    "## COMP5328 - Advanced Machine Learning\n",
    "## Assignment 1: Non-negative Matrix Factorization\n",
    "----------------------------------------------------------------------------------------"
   ]
  },
  {
   "cell_type": "markdown",
   "metadata": {},
   "source": [
    "**(Semester 2, 2025)**\n",
    "\n",
    "In this ipython notebook, we provide some example code for assignment1.\n",
    "+ Load Data.\n",
    "    - ORL dataset. \n",
    "    - Extended YaleB dataset. \n",
    "    - AR dataset (**optional**).\n",
    "+ Perform Evaluation. \n",
    "   - Relative Reconstruction Errors.\n",
    "   - Accuracy, NMI (**optional**).\n",
    "\n",
    "Lecturer: Tongliang Liu.\n",
    "\n",
    "**Note: All datasets can be used only for this assignment and you are not allowed to distribute these datasets. If you want to use AR dataset, you need to apply it by yourself (we do not provide AR dataset due to the problem of license, please find more details in http://www2.ece.ohio-state.edu/~aleix/ARdatabase.html).**"
   ]
  },
  {
   "cell_type": "markdown",
   "metadata": {},
   "source": [
    "## 1. Load Dataset\n",
    "\n",
    "### 1.0 Data Folder"
   ]
  },
  {
   "cell_type": "code",
   "execution_count": 1,
   "metadata": {
    "scrolled": true
   },
   "outputs": [
    {
     "name": "stdout",
     "output_type": "stream",
     "text": [
      "total 0\r\n",
      "drwxrwxrwx@ 41 ybs  staff  1312 Aug 25 16:59 \u001b[30m\u001b[43mCroppedYaleB\u001b[m\u001b[m\r\n",
      "drwx------@ 44 ybs  staff  1408 Aug 24 15:37 \u001b[34mORL\u001b[m\u001b[m\r\n"
     ]
    }
   ],
   "source": [
    "# The structure of data folder.\n",
    "!ls -l data"
   ]
  },
  {
   "cell_type": "raw",
   "metadata": {},
   "source": [
    "# Tree structure of data folder.\n",
    "├── CroppedAR\n",
    "    ├── M-001-01.bmp\n",
    "    ├── M-001-01.txt\n",
    "    ├── M-001-02.bmp\n",
    "    ├── M-001-02.txt\n",
    "    ├── ...\n",
    "├── CroppedYaleB\n",
    "│   ├── yaleB01\n",
    "│   ├── yaleB02\n",
    "│   ...\n",
    "│   ├── yaleB38\n",
    "│   └── yaleB39\n",
    "└── ORL\n",
    "    ├── s1\n",
    "    ├── s2\n",
    "    ├── s3\n",
    "    ├── ...\n",
    "    ├── s40"
   ]
  },
  {
   "cell_type": "markdown",
   "metadata": {},
   "source": [
    "### 1.1 Load ORL Dataset and Extended YaleB Dataset.\n",
    "+ ORL dataset contains ten different images of each of 40 distinct subjects. For some subjects, the images were taken at different times, varying the lighting, facial expressions (open / closed eyes, smiling / not smiling) and facial details (glasses / no glasses). All the images were taken against a dark homogeneous background with the subjects in an upright, frontal position (with tolerance for some side movement). The size of each image is 92x112 pixels, with 256 grey levels per pixel. To further reduce the computation complexity, you can resize all images to 30x37 pixels.\n",
    "\n",
    "+ Extended YaleB dataset contains 2414 images of 38 human subjects under 9 poses and 64 illumination conditions. All images are manually aligned, cropped, and then resized to 168x192 pixels. To further reduce the computation complexity, you can resize all images to 42x48 pixels."
   ]
  },
  {
   "cell_type": "code",
   "execution_count": 5,
   "metadata": {},
   "outputs": [],
   "source": [
    "import os\n",
    "import numpy as np\n",
    "from PIL import Image\n",
    "\n",
    "def load_data(root='data/CroppedYaleB', reduce=4):\n",
    "    \"\"\" \n",
    "    Load ORL (or Extended YaleB) dataset to numpy array.\n",
    "    \n",
    "    Args:\n",
    "        root: path to dataset.\n",
    "        reduce: scale factor for zooming out images.\n",
    "        \n",
    "    \"\"\" \n",
    "    images, labels = [], []\n",
    "\n",
    "    for i, person in enumerate(sorted(os.listdir(root))):\n",
    "        \n",
    "        if not os.path.isdir(os.path.join(root, person)):\n",
    "            continue\n",
    "        \n",
    "        for fname in os.listdir(os.path.join(root, person)):    \n",
    "            \n",
    "            # Remove background images in Extended YaleB dataset.\n",
    "            if fname.endswith('Ambient.pgm'):\n",
    "                continue\n",
    "            \n",
    "            if not fname.endswith('.pgm'):\n",
    "                continue\n",
    "                \n",
    "            # load image.\n",
    "            img = Image.open(os.path.join(root, person, fname))\n",
    "            img = img.convert('L') # grey image.\n",
    "\n",
    "            # reduce computation complexity.\n",
    "            img = img.resize([s//reduce for s in img.size])\n",
    "\n",
    "            # TODO: preprocessing.\n",
    "\n",
    "            # convert image to numpy array.\n",
    "            img = np.asarray(img).reshape((-1,1))\n",
    "\n",
    "            # collect data and label.\n",
    "            images.append(img)\n",
    "            labels.append(i)\n",
    "\n",
    "    # concate all images and labels.\n",
    "    images = np.concatenate(images, axis=1)\n",
    "    labels = np.array(labels)\n",
    "\n",
    "    return images, labels"
   ]
  },
  {
   "cell_type": "code",
   "execution_count": 4,
   "metadata": {
    "scrolled": true
   },
   "outputs": [
    {
     "name": "stdout",
     "output_type": "stream",
     "text": [
      "ORL dataset: X.shape = (2576, 400), Y.shape = (400,)\n",
      "Extended YalB dataset: X.shape = (2016, 2414), Y.shape = (2414,)\n"
     ]
    }
   ],
   "source": [
    "# Load ORL dataset.\n",
    "X_orl, Y_orl = load_data(root='data/ORL', reduce=2)\n",
    "print('ORL dataset: X.shape = {}, Y.shape = {}'.format(X_orl.shape, Y_orl.shape))\n",
    "\n",
    "# Load Extended YaleB dataset.\n",
    "X_yaleB, Y_yaleB = load_data(root='data/CroppedYaleB', reduce=4)\n",
    "print('Extended YalB dataset: X.shape = {}, Y.shape = {}'.format(X_yaleB.shape, Y_yaleB.shape))"
   ]
  },
  {
   "cell_type": "markdown",
   "metadata": {},
   "source": [
    "### 1.2 Load AR Dataset (Optional) \n",
    "AR dataset contains 2600 images of 100 individuals (50 male and 50 female). All images have been cropped and resized to 120x165 pixels. To further reduce the computation complexity, you can resize all images to 40x55 pixels."
   ]
  },
  {
   "cell_type": "code",
   "execution_count": 4,
   "metadata": {},
   "outputs": [],
   "source": [
    "def load_data_AR(root='data/CroppedAR', reduce=3):\n",
    "    \"\"\" \n",
    "    Load AR dataset to numpy array.\n",
    "    \n",
    "    Args:\n",
    "        root: path to AR dataset.\n",
    "        reduce: scale factor for zooming out images.\n",
    "        \n",
    "    \"\"\" \n",
    "    images, labels = [], []\n",
    "    \n",
    "    for fname in os.listdir(root):\n",
    "        \n",
    "        if not fname.endswith('.bmp'):\n",
    "            continue\n",
    "        \n",
    "        # get label.\n",
    "        label = int(fname[2:5])\n",
    "        if fname[0] == 'W': # start from 50\n",
    "            label += 50\n",
    "        \n",
    "        # load image.\n",
    "        img = Image.open(os.path.join(root, fname))\n",
    "        img = img.convert('L') # grey\n",
    "        \n",
    "        # reduce computation complexity.\n",
    "        img = img.resize([s//reduce for s in img.size])\n",
    "   \n",
    "        # TODO: preprocessing.\n",
    "        \n",
    "        # convert image to numpy array.\n",
    "        img = np.asarray(img).reshape((-1,1))\n",
    "        \n",
    "        # collect data and label.\n",
    "        images.append(img)\n",
    "        labels.append(label)\n",
    "        \n",
    "    # concate all images and labels.\n",
    "    images = np.concatenate(images, axis=1)\n",
    "    labels = np.array(labels)\n",
    "    \n",
    "    return images, labels"
   ]
  },
  {
   "cell_type": "markdown",
   "metadata": {},
   "source": [
    "---------------------------"
   ]
  },
  {
   "cell_type": "markdown",
   "metadata": {},
   "source": [
    "## 2. Noise Production\n",
    "\n",
    "### 2.1 Salt and Pepper Noise"
   ]
  },
  {
   "cell_type": "code",
   "execution_count": 7,
   "metadata": {},
   "outputs": [],
   "source": [
    "# Parameterised Salt and Pepper Noise Function\n",
    "def add_saltpepper_noise(V_hat, p=0, r=0, random_state=None):\n",
    "    \"\"\"\n",
    "    Add parameterised noise to the dataset\n",
    "    \n",
    "    Args:\n",
    "        V_hat: Clean data matrix (pixels × images)\n",
    "        p: Ratio of pixel corruption (noise level)\n",
    "        r: Ratio of corrupted pixels that become white (255)\n",
    "        random_state: Random seed for reproducibility\n",
    "    \n",
    "    Returns:\n",
    "        V: Noisy data matrix\n",
    "        noise_mask: Binary mask showing which pixels were corrupted\n",
    "    \"\"\"\n",
    "    rng = np.random.RandomState(random_state)\n",
    "    \n",
    "    V = V_hat.copy()\n",
    "    \n",
    "    # Create noise mask: p of pixels will be corrupted\n",
    "    total_pixels = V.size\n",
    "    num_corrupt = int(p * total_pixels)\n",
    "    flat_indices = rng.choice(total_pixels, size=num_corrupt, replace=False)\n",
    "    noise_mask = np.zeros(V.shape, dtype=bool)\n",
    "    noise_mask.flat[flat_indices] = True\n",
    "    \n",
    "    # r of corrupted pixels will become white\n",
    "    num_white = int(r * num_corrupt)\n",
    "    white_indices = rng.choice(num_corrupt, size=num_white, replace=False)\n",
    "    \n",
    "    # Create white/black mask for corrupted pixels\n",
    "    white_pixels = np.zeros(V.shape, dtype=bool)\n",
    "    white_pixels.flat[flat_indices[white_indices]] = True\n",
    "    \n",
    "    # Apply noise: corrupted pixels become either white (255) or black (0)\n",
    "    V[noise_mask & white_pixels] = 255  # White noise\n",
    "    V[noise_mask & ~white_pixels] = 0    # Black noise\n",
    "    \n",
    "    return V, noise_mask"
   ]
  },
  {
   "cell_type": "code",
   "execution_count": 13,
   "metadata": {},
   "outputs": [],
   "source": [
    "import matplotlib.pyplot as plt\n",
    "# Comparing images\n",
    "def compare_images(V_hat, V_noise, num_images=1):\n",
    "    img_size = [i//3 for i in (92, 112)]\n",
    "\n",
    "    fig, axes = plt.subplots(num_images, 2, figsize=(8, 3*num_images))\n",
    "\n",
    "    if num_images == 1:\n",
    "        axes = axes.reshape(1, -1) \n",
    "\n",
    "    for ind in range(num_images):\n",
    "        axes[ind, 0].imshow(V_hat[:,ind].reshape(img_size[1],img_size[0]), cmap=plt.cm.gray)\n",
    "        axes[ind, 0].set_title(f'Image {ind+1} (Original)')\n",
    "        axes[ind, 0].axis('off')\n",
    "        \n",
    "        # Noisy image\n",
    "        axes[ind, 1].imshow(V_noise[:,ind].reshape(img_size[1],img_size[0]), cmap=plt.cm.gray)\n",
    "        axes[ind, 1].set_title(f'Image {ind+1} (Reconstructed)')\n",
    "        axes[ind, 1].axis('off')\n",
    "        \n",
    "    plt.tight_layout()\n",
    "    plt.show()"
   ]
  },
  {
   "cell_type": "code",
   "execution_count": 25,
   "metadata": {},
   "outputs": [
    {
     "name": "stdout",
     "output_type": "stream",
     "text": [
      "==> Load ORL dataset ...\n",
      "V_hat.shape=(1110, 400), Y_hat.shape=(400,)\n"
     ]
    },
    {
     "data": {
      "image/png": "[encoded data removed]",
      "text/plain": [
       "<Figure size 800x900 with 6 Axes>"
      ]
     },
     "metadata": {},
     "output_type": "display_data"
    }
   ],
   "source": [
    "# Load dataset.\n",
    "print('==> Load ORL dataset ...')\n",
    "V_hat, Y_hat = load_data('data/ORL', reduce=3)\n",
    "print('V_hat.shape={}, Y_hat.shape={}'.format(V_hat.shape, Y_hat.shape))\n",
    "\n",
    "# Add Noise.\n",
    "V_noise, noise_mask = add_saltpepper_noise(V_hat, p=0.1, r=0.3, random_state=42)\n",
    "\n",
    "# Compare images\n",
    "compare_images(V_hat, V_noise, num_images=3)"
   ]
  },
  {
   "cell_type": "markdown",
   "metadata": {},
   "source": [
    "### 2.2 Gaussian Noise"
   ]
  },
  {
   "cell_type": "code",
   "execution_count": null,
   "metadata": {},
   "outputs": [],
   "source": [
    "# Add Gaussian Noise function here"
   ]
  },
  {
   "cell_type": "markdown",
   "metadata": {},
   "source": [
    "---------------------------\n"
   ]
  },
  {
   "cell_type": "markdown",
   "metadata": {},
   "source": [
    "## 3. Matrix Facorisation\n",
    "\n",
    "### 3.1 NMF"
   ]
  },
  {
   "cell_type": "code",
   "execution_count": 20,
   "metadata": {},
   "outputs": [
    {
     "name": "stdout",
     "output_type": "stream",
     "text": [
      "V shape: (1110, 400)\n",
      "W shape: (1110, 10)\n",
      "H shape: (10, 400)\n"
     ]
    }
   ],
   "source": [
    "# NMF function\n",
    "# Step 1. Initialize dictionary and coefficient matrices\n",
    "def initialise_matrices(V, k, random_state=None):\n",
    "    \"\"\"\n",
    "    Initialize the W (basis dictionary) and H (coefficient) matrices with random non-negative values\n",
    "    \n",
    "    Args:\n",
    "        V: Input data matrix (m × n)\n",
    "        k: Number of components \n",
    "        random_state: Random seed for reproducibility\n",
    "    \n",
    "    Returns:\n",
    "        W: Initial basis matrix (m × k)\n",
    "        H: Initial coefficient matrix (k × n)\n",
    "    \"\"\"\n",
    "    m, n = V.shape\n",
    "    \n",
    "    # Initialize W and H with random positive values\n",
    "    rng = np.random.RandomState(random_state)\n",
    "    W = rng.rand(m, k)\n",
    "    H = rng.rand(k, n)\n",
    "    \n",
    "    return W, H\n",
    "\n",
    "W_init, H_init = initialise_matrices(V_noise, k=10, random_state=42)\n",
    "print(f\"V shape: {V_noise.shape}\")\n",
    "print(f\"W shape: {W_init.shape}\")\n",
    "print(f\"H shape: {H_init.shape}\")"
   ]
  },
  {
   "cell_type": "code",
   "execution_count": 21,
   "metadata": {},
   "outputs": [],
   "source": [
    "# Step 2. Set update rules for W and H\n",
    "def H_update(V, W, H):\n",
    "    \"\"\"\n",
    "    Multiplicative Update Rules to solve for H by setting fixed W\n",
    "    \n",
    "    H_new = H_old*(W^T*V/W^T*W*H_old) \n",
    "    \n",
    "    Args:\n",
    "        V: Input data matrix (m × n)\n",
    "        W: Current basis matrix (m × k)\n",
    "        H: Current coefficient matrix (k × n)\n",
    "    \n",
    "    Returns:\n",
    "        H_new: Updated coefficient matrix\n",
    "    \"\"\"\n",
    "    # Compute numerator: W^T*V\n",
    "    numerator = np.dot(np.transpose(W), V)\n",
    "    \n",
    "    # Compute denominator: W^T*W*H_old\n",
    "    denominator = np.dot(np.dot(np.transpose(W), W), H)\n",
    "    \n",
    "    # Multiplicative update\n",
    "    H_new = H * (numerator / denominator)\n",
    "    \n",
    "    return H_new\n",
    "    \n",
    "def W_update(V, W, H):\n",
    "    \"\"\"\n",
    "    Multiplicative Update Rules to solve for W by setting fixed H\n",
    "    \n",
    "    W_new = W_old*(V*H^T/W_old*H*H^T) \n",
    "    \n",
    "    Args:\n",
    "        V: Input data matrix (m × n)\n",
    "        W: Current basis matrix (m × k)\n",
    "        H: Current coefficient matrix (k × n)\n",
    "    \n",
    "    Returns:\n",
    "        W_new: Updated dictionary matrix\n",
    "    \"\"\"\n",
    "    # Compute numerator: V*H^T\n",
    "    numerator = np.dot(V, np.transpose(H))\n",
    "    \n",
    "    # Compute denominator: W_old*H*H^T\n",
    "    denominator = np.dot(np.dot(W, H), np.transpose(H))\n",
    "    \n",
    "    # Multiplicative update\n",
    "    W_new = W * (numerator / denominator)\n",
    "    \n",
    "    return W_new"
   ]
  },
  {
   "cell_type": "code",
   "execution_count": 27,
   "metadata": {},
   "outputs": [],
   "source": [
    "# Step 3. Optimisation iteration\n",
    "def optimisation(V, k, max_iter=1000, tol=1e-6, verbose=True, random_state=None):\n",
    "    \"\"\"\n",
    "    Complete optimisation process\n",
    "    \n",
    "    Args:\n",
    "        V: Input data matrix (m × n)\n",
    "        k: Number of components\n",
    "        max_iter: Maximum number of iterations\n",
    "        tol: Convergence tolerance\n",
    "        random_state: Random seed for initialization\n",
    "    \n",
    "    Returns:\n",
    "        W: Basis matrix (m × k)\n",
    "        H: Coefficient matrix (k × n)\n",
    "        errors: List of reconstruction errors at each iteration\n",
    "    \"\"\"\n",
    "     # Initialise matrices\n",
    "    W, H = initialise_matrices(V, k, random_state)\n",
    "    \n",
    "    # Main optimization loop\n",
    "    for iteration in range(max_iter):\n",
    "        H_new = H_update(V, W, H)\n",
    "\n",
    "        # Update W\n",
    "        W_new = W_update(V, W, H_new)\n",
    "\n",
    "        # Calculate error\n",
    "        error_H = np.sqrt(np.sum((H_new-H)**2, axis=(0,1)))/H.size\n",
    "        error_W = np.sqrt(np.sum((W_new-W)**2, axis=(0,1)))/W.size\n",
    "        \n",
    "        # Check convergence\n",
    "        if error_H < tol and error_W < tol:\n",
    "            if verbose:\n",
    "                print(f\"Converged at iteration {iteration+1}\")\n",
    "            break\n",
    "        \n",
    "        # Print progress every 100 iterations\n",
    "        if verbose and (iteration + 1) % 100 == 0:\n",
    "            print(f\"Iteration {iteration+1}: Error H = {error_H:.6f},  Error W = {error_W:.6f}\")\n",
    "\n",
    "        H = H_new\n",
    "        W = W_new\n",
    "    \n",
    "    \n",
    "    return W, H\n",
    "    "
   ]
  },
  {
   "cell_type": "code",
   "execution_count": 30,
   "metadata": {},
   "outputs": [
    {
     "name": "stdout",
     "output_type": "stream",
     "text": [
      "==> Apply NMF ...\n",
      "Iteration 100: Error H = 0.000271,  Error W = 0.000017\n",
      "Iteration 200: Error H = 0.000123,  Error W = 0.000007\n",
      "Iteration 300: Error H = 0.000075,  Error W = 0.000004\n",
      "Iteration 400: Error H = 0.000052,  Error W = 0.000003\n",
      "Iteration 500: Error H = 0.000040,  Error W = 0.000002\n",
      "Iteration 600: Error H = 0.000033,  Error W = 0.000002\n",
      "Iteration 700: Error H = 0.000029,  Error W = 0.000001\n",
      "Iteration 800: Error H = 0.000026,  Error W = 0.000001\n",
      "Iteration 900: Error H = 0.000023,  Error W = 0.000001\n",
      "Iteration 1000: Error H = 0.000021,  Error W = 0.000001\n",
      "Iteration 1100: Error H = 0.000019,  Error W = 0.000001\n",
      "Iteration 1200: Error H = 0.000018,  Error W = 0.000001\n",
      "Iteration 1300: Error H = 0.000016,  Error W = 0.000001\n",
      "Iteration 1400: Error H = 0.000015,  Error W = 0.000001\n",
      "Iteration 1500: Error H = 0.000014,  Error W = 0.000001\n",
      "Iteration 1600: Error H = 0.000013,  Error W = 0.000001\n",
      "Iteration 1700: Error H = 0.000012,  Error W = 0.000001\n",
      "Iteration 1800: Error H = 0.000011,  Error W = 0.000001\n",
      "Iteration 1900: Error H = 0.000011,  Error W = 0.000000\n",
      "Iteration 2000: Error H = 0.000010,  Error W = 0.000000\n",
      "Converged at iteration 2016\n",
      "W.shape=(1110, 40), H.shape=(40, 400)\n"
     ]
    }
   ],
   "source": [
    "# Step 4. Applying NMF\n",
    "print('==> Apply NMF ...')\n",
    "W_final, H_final = optimisation(V_noise, k=40, max_iter=5000, tol=0.00001, verbose=True, random_state=42)\n",
    "print('W.shape={}, H.shape={}'.format(W_final.shape, H_final.shape))"
   ]
  },
  {
   "cell_type": "markdown",
   "metadata": {},
   "source": [
    "### 3.2 Other NMF Variant (Change to the selected algo name)"
   ]
  },
  {
   "cell_type": "code",
   "execution_count": null,
   "metadata": {},
   "outputs": [],
   "source": [
    "# Other NMF function"
   ]
  },
  {
   "cell_type": "markdown",
   "metadata": {},
   "source": [
    "---------------------------\n"
   ]
  },
  {
   "cell_type": "markdown",
   "metadata": {},
   "source": [
    "## 4. Evaluation Metrics\n",
    "\n",
    "\n",
    "### 4.1 Relative Reconstruction Errors (RRE)\n",
    "\n",
    "To compare the robustness of different NMF algorithms, you can use the ```relative reconstruction errors```. Let $V$ denote the contaminated dataset (by adding noise), and $\\hat{V}$\n",
    " denote the clean dataset. Let $W$ and $H$ denote the factorization results on $V$, the ``relative reconstruction errors`` then can be defined as follows:\n",
    " \\begin{equation}\n",
    "    RRE = \\frac{ \\| \\hat{V} - WH \\|_F }{ \\| \\hat{V} \\|_F}.\n",
    "\\end{equation}\n"
   ]
  },
  {
   "cell_type": "code",
   "execution_count": 6,
   "metadata": {},
   "outputs": [
    {
     "name": "stdout",
     "output_type": "stream",
     "text": [
      "==> Load ORL dataset ...\n",
      "V_hat.shape=(1110, 400), Y_hat.shape=(400,)\n"
     ]
    },
    {
     "data": {
      "text/plain": [
       "<Figure size 1000x300 with 3 Axes>"
      ]
     },
     "metadata": {},
     "output_type": "display_data"
    },
    {
     "name": "stdout",
     "output_type": "stream",
     "text": [
      "==> Apply NMF ...\n",
      "W.shape=(1110, 40), H.shape=(40, 400)\n",
      "==> Evaluate RRE ...\n",
      "RRE = 0.22688415691467015\n"
     ]
    }
   ],
   "source": [
    "# Load dataset.\n",
    "print('==> Load ORL dataset ...')\n",
    "V_hat, Y_hat = load_data('data/ORL', reduce=3)\n",
    "print('V_hat.shape={}, Y_hat.shape={}'.format(V_hat.shape, Y_hat.shape))\n",
    "\n",
    "# Add Noise.\n",
    "V_noise = np.random.rand(*V_hat.shape) * 40\n",
    "V = V_hat + V_noise\n",
    "\n",
    "# Plot result.\n",
    "import matplotlib.pyplot as plt\n",
    "img_size = [i//3 for i in (92, 112)] # ORL\n",
    "ind = 2 # index of demo image.\n",
    "plt.figure(figsize=(10,3))\n",
    "plt.subplot(131)\n",
    "plt.imshow(V_hat[:,ind].reshape(img_size[1],img_size[0]), cmap=plt.cm.gray)\n",
    "plt.title('Image(Original)')\n",
    "plt.subplot(132)\n",
    "plt.imshow(V_noise[:,ind].reshape(img_size[1],img_size[0]), cmap=plt.cm.gray)\n",
    "plt.title('Noise')\n",
    "plt.subplot(133)\n",
    "plt.imshow(V[:,ind].reshape(img_size[1],img_size[0]), cmap=plt.cm.gray)\n",
    "plt.title('Image(Noise)')\n",
    "plt.show()\n",
    "\n",
    "# TODO: you should implement NMF algorithms by yourself.\n",
    "print('==> Apply NMF ...')\n",
    "from sklearn.decomposition import NMF\n",
    "model = NMF(n_components=len(set(Y_hat))) # set n_components to num_classes.\n",
    "W = model.fit_transform(V)\n",
    "H = model.components_\n",
    "print('W.shape={}, H.shape={}'.format(W.shape, H.shape))\n",
    "\n",
    "# Evaluate relative reconstruction errors.\n",
    "print('==> Evaluate RRE ...')\n",
    "RRE = np.linalg.norm(V_hat - W.dot(H)) / np.linalg.norm(V_hat)\n",
    "print('RRE = {}'.format(RRE))"
   ]
  },
  {
   "cell_type": "markdown",
   "metadata": {},
   "source": [
    "### 4.2 Evaluate Clustering Performance\n",
    "\n",
    "1. Accuracy.\n",
    "    \n",
    "    $$ Acc(Y, Y_{pred}) = \\frac{1}{n}\\sum\\limits_{i=1}^n 1\\{Y_{pred}(i) == Y(i)\\}$$\n",
    "        \n",
    "2. Normalized Mutual Information (NMI).\n",
    "\n",
    "    $$ NMI(Y, Y_{pred}) = \\frac{2 * I(Y, Y_{pred})}{H(Y) + H(Y_{pred})} $$\n",
    "    \n",
    "   where $ I(\\cdot,\\cdot) $ is mutual information and $ H(\\cdot) $ is entropy."
   ]
  },
  {
   "cell_type": "code",
   "execution_count": 7,
   "metadata": {},
   "outputs": [
    {
     "name": "stdout",
     "output_type": "stream",
     "text": [
      "==> Evaluate Acc and NMI ...\n",
      "Acc(NMI) = 0.5875 (0.7431)\n"
     ]
    }
   ],
   "source": [
    "from collections import Counter\n",
    "from sklearn.cluster import KMeans\n",
    "from sklearn.metrics import accuracy_score\n",
    "from sklearn.metrics import normalized_mutual_info_score\n",
    "\n",
    "def assign_cluster_label(X, Y):\n",
    "    kmeans = KMeans(n_clusters=len(set(Y))).fit(X)\n",
    "    Y_pred = np.zeros(Y.shape)\n",
    "    for i in set(kmeans.labels_):\n",
    "        ind = kmeans.labels_ == i\n",
    "        Y_pred[ind] = Counter(Y[ind]).most_common(1)[0][0] # assign label.\n",
    "    return Y_pred\n",
    "\n",
    "print('==> Evaluate Acc and NMI ...')\n",
    "\n",
    "# Assign cluster labels.\n",
    "Y_pred = assign_cluster_label(H.T, Y_hat)\n",
    "\n",
    "acc = accuracy_score(Y_hat, Y_pred)\n",
    "nmi = normalized_mutual_info_score(Y_hat, Y_pred)\n",
    "print('Acc(NMI) = {:.4f} ({:.4f})'.format(acc, nmi))\n"
   ]
  }
 ],
 "metadata": {
  "kernelspec": {
   "display_name": "Python 3",
   "language": "python",
   "name": "python3"
  },
  "language_info": {
   "codemirror_mode": {
    "name": "ipython",
    "version": 3
   },
   "file_extension": ".py",
   "mimetype": "text/x-python",
   "name": "python",
   "nbconvert_exporter": "python",
   "pygments_lexer": "ipython3",
   "version": "3.13.7"
  }
 },
 "nbformat": 4,
 "nbformat_minor": 2
}
